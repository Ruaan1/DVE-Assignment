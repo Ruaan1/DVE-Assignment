{
 "cells": [
  {
   "cell_type": "markdown",
   "id": "db32f4c0",
   "metadata": {},
   "source": [
    "Data Evaluation\n"
   ]
  },
  {
   "cell_type": "code",
   "execution_count": 32,
   "id": "8c8be9bc",
   "metadata": {},
   "outputs": [
    {
     "name": "stdout",
     "output_type": "stream",
     "text": [
      "<class 'pandas.core.frame.DataFrame'>\n",
      "RangeIndex: 1174870 entries, 0 to 1174869\n",
      "Data columns (total 9 columns):\n",
      " #   Column           Non-Null Count    Dtype \n",
      "---  ------           --------------    ----- \n",
      " 0   date_fueled      1125665 non-null  object\n",
      " 1   date_captured    1174870 non-null  object\n",
      " 2   odometer         1025716 non-null  object\n",
      " 3   gallons          1100660 non-null  object\n",
      " 4   cost_per_gallon  1094110 non-null  object\n",
      " 5   total_spent      1100660 non-null  object\n",
      " 6   mpg              1100660 non-null  object\n",
      " 7   miles            146274 non-null   object\n",
      " 8   user_url         1174870 non-null  object\n",
      "dtypes: object(9)\n",
      "memory usage: 80.7+ MB\n"
     ]
    },
    {
     "data": {
      "text/html": [
       "<div>\n",
       "<style scoped>\n",
       "    .dataframe tbody tr th:only-of-type {\n",
       "        vertical-align: middle;\n",
       "    }\n",
       "\n",
       "    .dataframe tbody tr th {\n",
       "        vertical-align: top;\n",
       "    }\n",
       "\n",
       "    .dataframe thead th {\n",
       "        text-align: right;\n",
       "    }\n",
       "</style>\n",
       "<table border=\"1\" class=\"dataframe\">\n",
       "  <thead>\n",
       "    <tr style=\"text-align: right;\">\n",
       "      <th></th>\n",
       "      <th>date_fueled</th>\n",
       "      <th>date_captured</th>\n",
       "      <th>odometer</th>\n",
       "      <th>gallons</th>\n",
       "      <th>cost_per_gallon</th>\n",
       "      <th>total_spent</th>\n",
       "      <th>mpg</th>\n",
       "      <th>miles</th>\n",
       "      <th>user_url</th>\n",
       "    </tr>\n",
       "  </thead>\n",
       "  <tbody>\n",
       "    <tr>\n",
       "      <th>0</th>\n",
       "      <td>Cooling System, Heating System, Lights, Spark ...</td>\n",
       "      <td>Apr 7 2022</td>\n",
       "      <td>73,370</td>\n",
       "      <td>NaN</td>\n",
       "      <td>NaN</td>\n",
       "      <td>NaN</td>\n",
       "      <td>NaN</td>\n",
       "      <td>NaN</td>\n",
       "      <td>https://www.somewebsite.com/suzuki/swift/2015/...</td>\n",
       "    </tr>\n",
       "    <tr>\n",
       "      <th>1</th>\n",
       "      <td>Nov 7 2012</td>\n",
       "      <td>Aug 30 2016</td>\n",
       "      <td>11,983</td>\n",
       "      <td>12.120</td>\n",
       "      <td>$5.599</td>\n",
       "      <td>$67.86</td>\n",
       "      <td>31.6</td>\n",
       "      <td>NaN</td>\n",
       "      <td>https://www.somewebsite.com/bmw/x3/2009/461150</td>\n",
       "    </tr>\n",
       "    <tr>\n",
       "      <th>2</th>\n",
       "      <td>Sep 22 2012</td>\n",
       "      <td>Sep 28 2012</td>\n",
       "      <td>98,233</td>\n",
       "      <td>7.991</td>\n",
       "      <td>£5.45</td>\n",
       "      <td>£43.53</td>\n",
       "      <td>28.5</td>\n",
       "      <td>NaN</td>\n",
       "      <td>https://www.somewebsite.com/mercedes-benz/e300...</td>\n",
       "    </tr>\n",
       "    <tr>\n",
       "      <th>3</th>\n",
       "      <td>May 4 2019</td>\n",
       "      <td>May 4 2019</td>\n",
       "      <td>163,802</td>\n",
       "      <td>10.575</td>\n",
       "      <td>£5.11</td>\n",
       "      <td>£54.00</td>\n",
       "      <td>46.8</td>\n",
       "      <td>NaN</td>\n",
       "      <td>https://www.somewebsite.com/bmw/320d/2010/247233</td>\n",
       "    </tr>\n",
       "    <tr>\n",
       "      <th>4</th>\n",
       "      <td>Feb 15 2022</td>\n",
       "      <td>Feb 15 2022</td>\n",
       "      <td>NaN</td>\n",
       "      <td>11.651</td>\n",
       "      <td>$3.029</td>\n",
       "      <td>$35.29</td>\n",
       "      <td>21.0</td>\n",
       "      <td>244.4</td>\n",
       "      <td>https://www.somewebsite.com/honda/passport/201...</td>\n",
       "    </tr>\n",
       "  </tbody>\n",
       "</table>\n",
       "</div>"
      ],
      "text/plain": [
       "                                         date_fueled date_captured  odometer  \\\n",
       "0  Cooling System, Heating System, Lights, Spark ...    Apr 7 2022   73,370    \n",
       "1                                         Nov 7 2012   Aug 30 2016   11,983    \n",
       "2                                        Sep 22 2012   Sep 28 2012   98,233    \n",
       "3                                         May 4 2019    May 4 2019  163,802    \n",
       "4                                        Feb 15 2022   Feb 15 2022       NaN   \n",
       "\n",
       "  gallons cost_per_gallon total_spent   mpg    miles  \\\n",
       "0     NaN             NaN         NaN   NaN      NaN   \n",
       "1  12.120          $5.599      $67.86  31.6      NaN   \n",
       "2   7.991           £5.45      £43.53  28.5      NaN   \n",
       "3  10.575           £5.11      £54.00  46.8      NaN   \n",
       "4  11.651          $3.029      $35.29  21.0   244.4    \n",
       "\n",
       "                                            user_url  \n",
       "0  https://www.somewebsite.com/suzuki/swift/2015/...  \n",
       "1     https://www.somewebsite.com/bmw/x3/2009/461150  \n",
       "2  https://www.somewebsite.com/mercedes-benz/e300...  \n",
       "3   https://www.somewebsite.com/bmw/320d/2010/247233  \n",
       "4  https://www.somewebsite.com/honda/passport/201...  "
      ]
     },
     "execution_count": 32,
     "metadata": {},
     "output_type": "execute_result"
    }
   ],
   "source": [
    "import pandas as pd\n",
    "import numpy as np\n",
    "import matplotlib.pyplot as plt\n",
    "import warnings\n",
    "\n",
    "warnings.filterwarnings(\"ignore\")\n",
    "\n",
    "# Reads data\n",
    "df = pd.read_csv(\"../Data/logbook_assignment1.csv\")\n",
    "df.shape\n",
    "df.info()\n",
    "df.describe()\n",
    "df.head()"
   ]
  },
  {
   "cell_type": "markdown",
   "id": "49726c0f",
   "metadata": {},
   "source": [
    "All the columns are in string format, even the numeric ones. Theres missing values in most of the columns. Some of the cilumns formats are wrong, like data fuel. Some cols have text and numbers."
   ]
  },
  {
   "cell_type": "markdown",
   "id": "644aa00d",
   "metadata": {},
   "source": [
    "Question 1.1 - 1\n",
    "Identify what percentage of date_fueled entries are not proper dates"
   ]
  },
  {
   "cell_type": "code",
   "execution_count": 33,
   "id": "0de1f6ab",
   "metadata": {},
   "outputs": [
    {
     "name": "stdout",
     "output_type": "stream",
     "text": [
      "Invalid date_fueled entries: 11.66%\n"
     ]
    }
   ],
   "source": [
    "Dates = pd.to_datetime(df['date_fueled'], errors='coerce')\n",
    "Nat_values = Dates.isna() #counts no. of trues\n",
    "Nat_count = Nat_values.sum()\n",
    "Total_count = len(df)\n",
    "percentage = (Nat_count/Total_count)*100\n",
    "print(f\"Invalid date_fueled entries: {percentage:.2f}%\") "
   ]
  },
  {
   "cell_type": "markdown",
   "id": "6bd61cba",
   "metadata": {},
   "source": [
    "The amount of dates that are not proper dates in date_fueled, is 11.66%. Meaning that 11.66% of the dates are Nat.\n",
    " "
   ]
  },
  {
   "cell_type": "markdown",
   "id": "d488b730",
   "metadata": {},
   "source": [
    "Question 1.1 - 2 If date fueled is not entered correctly (or is not a date), and the date\n",
    "captured is a valid date, then fill in this value as a proxy. "
   ]
  },
  {
   "cell_type": "code",
   "execution_count": 34,
   "id": "0eabf2f2",
   "metadata": {},
   "outputs": [
    {
     "data": {
      "text/plain": [
       "0    Cooling System, Heating System, Lights, Spark ...\n",
       "1                                           Nov 7 2012\n",
       "2                                          Sep 22 2012\n",
       "3                                           May 4 2019\n",
       "4                                          Feb 15 2022\n",
       "Name: date_fueled, dtype: object"
      ]
     },
     "execution_count": 34,
     "metadata": {},
     "output_type": "execute_result"
    }
   ],
   "source": [
    "df['date_captured'] = pd.to_datetime(df['date_captured'], errors = 'coerce')\n",
    "intersection = df['date_fueled'].isna() & df['date_captured'].notna()\n",
    "df.loc[intersection, 'date_fueled'] == df.loc[intersection, 'date_captured']\n",
    "df['date_fueled'].head()"
   ]
  },
  {
   "cell_type": "markdown",
   "id": "80a1c1d0",
   "metadata": {},
   "source": [
    "Converted date_captured to date format, then found all the rows where date_fueled had no values or NaT, while date_captured had a value, and changed it to date capture using df.loc"
   ]
  },
  {
   "cell_type": "markdown",
   "id": "1fedc604",
   "metadata": {},
   "source": [
    "Question 1.1 - 3 Convert the column to a date format, setting any invalid date fueled entries\n",
    "to NaT.\n"
   ]
  },
  {
   "cell_type": "code",
   "execution_count": 35,
   "id": "823c0904",
   "metadata": {},
   "outputs": [
    {
     "name": "stdout",
     "output_type": "stream",
     "text": [
      "0          NaT\n",
      "1   2012-11-07\n",
      "2   2012-09-22\n",
      "3   2019-05-04\n",
      "4   2022-02-15\n",
      "5   2021-10-23\n",
      "6   2021-11-20\n",
      "7   2022-01-20\n",
      "8          NaT\n",
      "9          NaT\n",
      "Name: date_fueled, dtype: datetime64[ns]\n"
     ]
    }
   ],
   "source": [
    "df['date_fueled'] = pd.to_datetime(df['date_fueled'], errors = 'coerce')\n",
    "print(df['date_fueled'].head(10))"
   ]
  },
  {
   "cell_type": "markdown",
   "id": "5dc053da",
   "metadata": {},
   "source": [
    "The date_fueled column was converted to datetime format. Any entries that were not proper dates were set to NaT."
   ]
  },
  {
   "cell_type": "markdown",
   "id": "a639de50",
   "metadata": {},
   "source": [
    "Question 1.1 - 4 Remove dates that are in the future, or dates that are earlier than 2005."
   ]
  },
  {
   "cell_type": "code",
   "execution_count": 36,
   "id": "61c88ec9",
   "metadata": {},
   "outputs": [
    {
     "name": "stdout",
     "output_type": "stream",
     "text": [
      "before:  1174870\n",
      "after:  1037177\n"
     ]
    }
   ],
   "source": [
    "min = pd.Timestamp('2005-01-01')\n",
    "max = pd.Timestamp.today()\n",
    "print(\"before: \", len(df['date_fueled']))\n",
    "df = df[(df['date_fueled']>=min) & (df['date_fueled']<=max)]\n",
    "print(\"after: \", len(df['date_fueled']))"
   ]
  },
  {
   "cell_type": "markdown",
   "id": "f35ecffd",
   "metadata": {},
   "source": [
    "Question 1.1 - 5 Plot the distribution of fueling dates and comment on the results."
   ]
  },
  {
   "cell_type": "code",
   "execution_count": 37,
   "id": "597e24f6",
   "metadata": {},
   "outputs": [
    {
     "data": {
      "image/png": "[encoded data removed]",
      "text/plain": [
       "<Figure size 1200x600 with 1 Axes>"
      ]
     },
     "metadata": {},
     "output_type": "display_data"
    }
   ],
   "source": [
    "plt.figure(figsize=(12,6))\n",
    "df['date_fueled'].hist(bins=100, edgecolor='black')\n",
    "\n",
    "plt.title(\"Distribution of Fueling Dates\")\n",
    "plt.xlabel(\"Date\")\n",
    "plt.ylabel(\"Number of Records\")\n",
    "plt.show()"
   ]
  },
  {
   "cell_type": "markdown",
   "id": "dfd1355f",
   "metadata": {},
   "source": [
    "The distribution of fueling dates shows that most records are concentrated in recent years (e.g., around 2020 onwards). Earlier dates have fewer records, likely because fewer users were logging their fuel data at that time. There are no obvious spikes beyond today's date, confirming that invalid future entries were successfully removed. Also we can see that most records of fuel were more recent from 2021 until 2022 - 2023."
   ]
  },
  {
   "cell_type": "markdown",
   "id": "fa522761",
   "metadata": {},
   "source": [
    "1.2.1 "
   ]
  },
  {
   "cell_type": "code",
   "execution_count": 38,
   "id": "eb2cea65",
   "metadata": {},
   "outputs": [
    {
     "name": "stdout",
     "output_type": "stream",
     "text": [
      "gallons      3.323926\n",
      "miles       88.581505\n",
      "odometer    11.614893\n",
      "mpg          3.323926\n",
      "dtype: float64\n"
     ]
    }
   ],
   "source": [
    "numeric_cols = [\"gallons\", \"miles\", \"odometer\", \"mpg\"]\n",
    "\n",
    "missing_percentages = df[numeric_cols].isna().mean() * 100\n",
    "print(missing_percentages)\n"
   ]
  },
  {
   "cell_type": "markdown",
   "id": "533789c3",
   "metadata": {},
   "source": [
    "The gallons column has only 3.32% missing entries, meaning most fueling events include fuel volume and the data is largely reliable. In contrast, the miles column is missing 88.58% of its values, which severely restricts direct mileage analysis and makes imputation from gallons and mpg essential. The odometer column has 11.61% missing entries, a noticeable but manageable gap that could impact long-term vehicle usage tracking. Finally, the mpg column shows 3.32% missing values, a relatively small amount that can often be calculated using the available gallons and miles data."
   ]
  },
  {
   "cell_type": "markdown",
   "id": "a26d95de",
   "metadata": {},
   "source": [
    "1.2.2"
   ]
  },
  {
   "cell_type": "code",
   "execution_count": 39,
   "id": "48ad1625",
   "metadata": {},
   "outputs": [],
   "source": [
    "df[numeric_cols] = df[numeric_cols].apply(pd.to_numeric, errors='coerce')\n",
    "\n",
    "df.loc[df[\"mpg\"].isna() & df[\"miles\"].notna() & df[\"gallons\"].notna(), \"mpg\"] = \\\n",
    "    df[\"miles\"] / df[\"gallons\"]\n",
    "\n",
    "df.loc[df[\"miles\"].isna() & df[\"mpg\"].notna() & df[\"gallons\"].notna(), \"miles\"] = \\\n",
    "    df[\"mpg\"] * df[\"gallons\"]\n",
    "\n",
    "df.loc[df[\"gallons\"].isna() & df[\"miles\"].notna() & df[\"mpg\"].notna(), \"gallons\"] = \\\n",
    "    df[\"miles\"] / df[\"mpg\"]\n"
   ]
  },
  {
   "cell_type": "markdown",
   "id": "313b8db1",
   "metadata": {},
   "source": [
    "1.2.3"
   ]
  },
  {
   "cell_type": "code",
   "execution_count": 40,
   "id": "eae46a65",
   "metadata": {},
   "outputs": [],
   "source": [
    "for col in numeric_cols:\n",
    "    if df[col].dtype == 'object':\n",
    "        df[col] = df[col].astype(str).str.replace(\",\", \"\", regex=True)\n",
    "    df[col] = pd.to_numeric(df[col], errors=\"coerce\")"
   ]
  },
  {
   "cell_type": "markdown",
   "id": "2181e672",
   "metadata": {},
   "source": [
    "1.2.4"
   ]
  },
  {
   "cell_type": "code",
   "execution_count": 41,
   "id": "742a85cb",
   "metadata": {},
   "outputs": [
    {
     "data": {
      "image/png": "[encoded data removed]",
      "text/plain": [
       "<Figure size 800x400 with 1 Axes>"
      ]
     },
     "metadata": {},
     "output_type": "display_data"
    },
    {
     "data": {
      "image/png": "[encoded data removed]",
      "text/plain": [
       "<Figure size 800x400 with 1 Axes>"
      ]
     },
     "metadata": {},
     "output_type": "display_data"
    },
    {
     "data": {
      "image/png": "[encoded data removed]",
      "text/plain": [
       "<Figure size 800x400 with 1 Axes>"
      ]
     },
     "metadata": {},
     "output_type": "display_data"
    },
    {
     "data": {
      "image/png": "[encoded data removed]",
      "text/plain": [
       "<Figure size 800x400 with 1 Axes>"
      ]
     },
     "metadata": {},
     "output_type": "display_data"
    }
   ],
   "source": [
    "import matplotlib.pyplot as plt\n",
    "\n",
    "for col in numeric_cols:\n",
    "    plt.figure(figsize=(8,4))\n",
    "    df[col].dropna().hist(bins=50)\n",
    "    plt.title(f\"Distribution of {col}\")\n",
    "    plt.xlabel(col)\n",
    "    plt.ylabel(\"Frequency\")\n",
    "    plt.show()\n"
   ]
  },
  {
   "cell_type": "markdown",
   "id": "8c5c3ea9",
   "metadata": {},
   "source": [
    "The distribution plots for the numeric fields reveal significant data quality issues typical of user-generated datasets. The odometer readings show a relatively uniform distribution with a concerning spike at very low values, suggesting potential data entry errors or unit confusion. Both miles and gallons exhibit extremely right-skewed distributions with massive concentrations near zero and unrealistic outliers extending to 20,000+ miles and 1000+ gallons respectively, indicating mixed usage patterns (personal vs. commercial vehicles) and likely unit inconsistencies. The MPG distribution appears more reasonable with most values between 10-60 MPG and a realistic peak around 20-30 MPG, though some extreme outliers approaching 800 MPG reveal calculation errors from the problematic input data. Overall, these distributions highlight the critical need for robust outlier removal and data validation before conducting meaningful analysis, as the extreme values and skewed patterns suggest widespread data entry errors, unit confusion, and the mixing of different vehicle types in the dataset."
   ]
  },
  {
   "cell_type": "markdown",
   "id": "ce1c70c2",
   "metadata": {},
   "source": [
    "1.2.5"
   ]
  },
  {
   "cell_type": "code",
   "execution_count": 42,
   "id": "d992fdbd",
   "metadata": {},
   "outputs": [
    {
     "name": "stdout",
     "output_type": "stream",
     "text": [
      "              count        mean         std  min      25%       50%      75%  \\\n",
      "gallons   1002644.0   12.435565    6.618389  0.0    9.082   12.0090   14.966   \n",
      "miles     1002641.0  265.943376  190.493068  0.0  184.700  268.4874  343.296   \n",
      "odometer     5210.0  496.453359  296.886555  0.0  259.250  500.0000  750.000   \n",
      "mpg       1002699.0   22.212579   15.585304  0.0   15.700   21.8000   28.500   \n",
      "\n",
      "               max  most_frequent  \n",
      "gallons     984.71         10.567  \n",
      "miles     23238.40          0.000  \n",
      "odometer    999.00          1.000  \n",
      "mpg         786.50          0.000  \n"
     ]
    }
   ],
   "source": [
    "stats = df[numeric_cols].describe(include=\"all\").T\n",
    "stats[\"most_frequent\"] = df[numeric_cols].mode().iloc[0]\n",
    "print(stats)"
   ]
  },
  {
   "cell_type": "markdown",
   "id": "d913bac7",
   "metadata": {},
   "source": [
    "The gallons data shows an average of about 12.4 gallons per fueling, which is consistent with typical fuel tank sizes, though the maximum value of 984.71 appears unrealistic and likely reflects data entry errors. The miles column has a mean of 266 miles between fuelings, with most values clustering between 185 and 343 miles, but the maximum of 23,238 miles suggests some extreme outliers or incorrect entries. Odometer readings average around 496, with most values between 259 and 750, which seems unusually low for real-world odometer readings, possibly because the dataset only captured partial values or was truncated. The mpg values average 22.2, which is reasonable for vehicle fuel efficiency, but the maximum of 786.5 mpg is clearly an error. The most frequent values of 0 in miles and mpg further highlight missing or incorrectly recorded data, while the frequent gallon value around 10.6 aligns well with real-world refueling behavior."
   ]
  },
  {
   "cell_type": "markdown",
   "id": "704bfa41",
   "metadata": {},
   "source": [
    "Question 2.1 -1 Create a new column with the currency.\n"
   ]
  },
  {
   "cell_type": "code",
   "execution_count": 43,
   "id": "0bd538f8",
   "metadata": {},
   "outputs": [
    {
     "name": "stdout",
     "output_type": "stream",
     "text": [
      "currency\n",
      "$       684782\n",
      "£        73164\n",
      "€        53005\n",
      "CA$      41015\n",
      "None     40118\n",
      "R        31623\n",
      "AU$      19715\n",
      "RM        7129\n",
      "NZ$       6431\n",
      "R$        5630\n",
      "Name: count, dtype: int64\n"
     ]
    }
   ],
   "source": [
    "import re\n",
    "def currency(x):\n",
    "    if pd.isna(x):\n",
    "        return None\n",
    "    curr = str(x)\n",
    "\n",
    "    if any(x in curr for x in [\"Ch.f\", \"CHF\", \"C.hf\", \"C.h.f\"]):\n",
    "        return 'CHF'\n",
    "    \n",
    "    values = re.match(r\"^([^0-9\\.]+)\",curr.strip())\n",
    "    if values:\n",
    "        return values.group(1).strip()\n",
    "    return None\n",
    "\n",
    "df['currency'] = df['cost_per_gallon'].apply(currency)\n",
    "print(df['currency'].value_counts(dropna=False).head(10))"
   ]
  },
  {
   "cell_type": "markdown",
   "id": "af79d4df",
   "metadata": {},
   "source": [
    "We extracted the currency from the cost columns by identifying the prefix symbol or abbreviation before the numeric values. A special case was accounted for with the Swiss Franc, which can appear as Ch.f. instead of CHF. This new column, currency, will be useful when comparing prices across countries."
   ]
  },
  {
   "cell_type": "markdown",
   "id": "923df114",
   "metadata": {},
   "source": [
    "Question 2.1 -2 Create a new column containing the float value of the total spend and the\n",
    "cost per gallon."
   ]
  },
  {
   "cell_type": "code",
   "execution_count": 44,
   "id": "3e5dd60f",
   "metadata": {},
   "outputs": [
    {
     "name": "stdout",
     "output_type": "stream",
     "text": [
      "  cost_per_gallon  cost_per_gallon_float total_spent  total_spent_float\n",
      "1          $5.599                  5.599      $67.86              67.86\n",
      "2           £5.45                  5.450      £43.53              43.53\n",
      "3           £5.11                  5.110      £54.00              54.00\n",
      "4          $3.029                  3.029      $35.29              35.29\n",
      "5          $3.739                  3.739      $12.76              12.76\n"
     ]
    }
   ],
   "source": [
    "def numerical_value(x):\n",
    "    if pd.isna(x):\n",
    "        return None\n",
    "    curr = str(x)\n",
    "\n",
    "    curr = re.sub(r\"[^0-9\\.\\-]\", \"\", curr)\n",
    "    try:\n",
    "        return float(curr)\n",
    "    except:\n",
    "        return None\n",
    "    \n",
    "df['cost_per_gallon_float'] = df['cost_per_gallon'].apply(numerical_value)\n",
    "df['total_spent_float'] = df['total_spent'].apply(numerical_value)\n",
    "\n",
    "print(df[['cost_per_gallon', 'cost_per_gallon_float', 'total_spent', 'total_spent_float']].head())"
   ]
  },
  {
   "cell_type": "markdown",
   "id": "607f377a",
   "metadata": {},
   "source": [
    "We created numeric versions of cost_per_gallon and total_spent by removing currency symbols and non-numeric characters, thenconverting the results to floats. This ensures these columns can be used in statistical analysis and numerical computations."
   ]
  },
  {
   "cell_type": "markdown",
   "id": "27114fad",
   "metadata": {},
   "source": [
    "Question 2.1 -3 Car make, model, year, User ID: use the url (the last value in the URL is\n",
    "the user ID"
   ]
  },
  {
   "cell_type": "code",
   "execution_count": 45,
   "id": "5cd73f50",
   "metadata": {},
   "outputs": [
    {
     "name": "stdout",
     "output_type": "stream",
     "text": [
      "                                            user_url           make     model  \\\n",
      "1     https://www.somewebsite.com/bmw/x3/2009/461150            Bmw        X3   \n",
      "2  https://www.somewebsite.com/mercedes-benz/e300...  Mercedes Benz      E300   \n",
      "3   https://www.somewebsite.com/bmw/320d/2010/247233            Bmw      320D   \n",
      "4  https://www.somewebsite.com/honda/passport/201...          Honda  Passport   \n",
      "5  https://www.somewebsite.com/volkswagen/passat/...     Volkswagen    Passat   \n",
      "\n",
      "     year  user_id  \n",
      "1  2009.0   461150  \n",
      "2  1998.0   133501  \n",
      "3  2010.0   247233  \n",
      "4  2019.0  1038865  \n",
      "5  2004.0   445811  \n"
     ]
    }
   ],
   "source": [
    "split = df['user_url'].astype(str).str.strip('/').str.split(\"/\")\n",
    "df['user_id'] = pd.to_numeric(split.str.get(-1), errors = 'coerce').astype('Int64')\n",
    "df['year'] = pd.to_numeric(split.str.get(-2), errors = 'coerce')\n",
    "\n",
    "temp_make = split.str.get(-4)\n",
    "temp_model = split.str.get(-3)\n",
    "\n",
    "def removal(x):\n",
    "    if pd.isna(x):\n",
    "        return x\n",
    "    x = str(x).replace('-',' ').strip()\n",
    "    return x.title()\n",
    "\n",
    "df['make'] = temp_make.map(removal)\n",
    "df['model'] = temp_model.map(removal)\n",
    "\n",
    "print(df[['user_url','make','model','year','user_id']].head(5))\n"
   ]
  },
  {
   "cell_type": "markdown",
   "id": "963edd1f",
   "metadata": {},
   "source": [
    "Question 2.2 - 1 litres filled: use the gallons - consider whether to use UK or US gallons."
   ]
  },
  {
   "cell_type": "code",
   "execution_count": 46,
   "id": "13ea95c3",
   "metadata": {},
   "outputs": [
    {
     "name": "stdout",
     "output_type": "stream",
     "text": [
      "   currency  gallons     litres\n",
      "1         $   12.120  45.879169\n",
      "2         £    7.991  36.327805\n",
      "3         £   10.575  48.074902\n",
      "4         $   11.651  44.103812\n",
      "5         $    3.413  12.919604\n",
      "6         $    9.044  34.235248\n",
      "7         $   14.962  56.637304\n",
      "10      RON    9.883  37.411207\n",
      "11        $   13.761  52.091027\n",
      "12        $   12.631  47.813514\n"
     ]
    }
   ],
   "source": [
    "US_Litre = 3.78541\n",
    "UK_Litre = 4.54609\n",
    "df['litres'] = df['gallons'] * US_Litre\n",
    "UK_currency = df['currency'] =='£'\n",
    "df.loc[UK_currency,'litres'] = df.loc[UK_currency,'gallons'] * UK_Litre\n",
    "print(df[['currency','gallons','litres']].head(10))"
   ]
  },
  {
   "cell_type": "markdown",
   "id": "1b212e9c",
   "metadata": {},
   "source": [
    "Question 2.2 - 2 km driven: use the miles driven to compute this "
   ]
  },
  {
   "cell_type": "code",
   "execution_count": 47,
   "id": "82b22977",
   "metadata": {},
   "outputs": [
    {
     "name": "stdout",
     "output_type": "stream",
     "text": [
      "       miles          km\n",
      "1   382.9920  616.364345\n",
      "2   227.7435  366.516724\n",
      "3   494.9100  796.478459\n",
      "4   244.4000  393.322696\n",
      "5    98.9770  159.287645\n",
      "6   266.7980  429.368693\n",
      "7   408.4626  657.355201\n",
      "10  375.5540  604.394074\n",
      "11  288.9810  465.068683\n",
      "12  304.4071  489.894522\n"
     ]
    }
   ],
   "source": [
    "Miles_to_Km = 1.60934\n",
    "df['km'] = df['miles'] * Miles_to_Km\n",
    "print(df[['miles', 'km']].head(10))"
   ]
  },
  {
   "cell_type": "markdown",
   "id": "6df42945",
   "metadata": {},
   "source": [
    "Question 2.2 - 3 litres per 100km: use the two new features to calculate this."
   ]
  },
  {
   "cell_type": "code",
   "execution_count": 48,
   "id": "0ce83bb0",
   "metadata": {},
   "outputs": [
    {
     "name": "stdout",
     "output_type": "stream",
     "text": [
      "       litres          km  litres_per_100km\n",
      "1   45.879169  616.364345          7.443514\n",
      "2   36.327805  366.516724          9.911636\n",
      "3   48.074902  796.478459          6.035932\n",
      "4   44.103812  393.322696         11.213137\n",
      "5   12.919604  159.287645          8.110864\n",
      "6   34.235248  429.368693          7.973392\n",
      "7   56.637304  657.355201          8.615936\n",
      "10  37.411207  604.394074          6.189870\n",
      "11  52.091027  465.068683         11.200717\n",
      "12  47.813514  489.894522          9.759961\n"
     ]
    }
   ],
   "source": [
    "df['litres_per_100km'] = (df['litres'] / df['km']) * 100\n",
    "df['litres_per_100km'] = df['litres_per_100km'].replace([np.inf, -np.inf], np.nan)\n",
    "print(df[['litres', 'km', 'litres_per_100km']].head(10))"
   ]
  },
  {
   "cell_type": "markdown",
   "id": "309a615b",
   "metadata": {},
   "source": [
    "Initially, some numeric fields (miles, gallons, mpg) were missing. However,because these variables are interdependent, missing values could often be reconstructed. For example, if miles was missing but both gallons and mpg were present, we imputed miles = mpg × gallons. After this step, some rows that originally contained NaN values now had valid reconstructed entries, which carried through into the engineered features (km, litres, litres_per_100km)."
   ]
  },
  {
   "cell_type": "markdown",
   "id": "f818fb5d",
   "metadata": {},
   "source": []
  }
 ],
 "metadata": {
  "kernelspec": {
   "display_name": "Python 3",
   "language": "python",
   "name": "python3"
  },
  "language_info": {
   "codemirror_mode": {
    "name": "ipython",
    "version": 3
   },
   "file_extension": ".py",
   "mimetype": "text/x-python",
   "name": "python",
   "nbconvert_exporter": "python",
   "pygments_lexer": "ipython3",
   "version": "3.11.9"
  }
 },
 "nbformat": 4,
 "nbformat_minor": 5
}
