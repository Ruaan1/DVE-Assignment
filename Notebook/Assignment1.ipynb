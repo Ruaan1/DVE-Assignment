{
 "cells": [
  {
   "cell_type": "markdown",
   "id": "db32f4c0",
   "metadata": {},
   "source": [
    "Data Evaluation\n"
   ]
  },
  {
   "cell_type": "code",
   "execution_count": 1,
   "id": "8c8be9bc",
   "metadata": {},
   "outputs": [
    {
     "name": "stderr",
     "output_type": "stream",
     "text": [
      "C:\\Users\\ruaan\\AppData\\Local\\Temp\\ipykernel_2084\\3040464118.py:5: DtypeWarning: Columns (3,6) have mixed types. Specify dtype option on import or set low_memory=False.\n",
      "  df = pd.read_csv(\"../Data/logbook_assignment1.csv\")\n"
     ]
    },
    {
     "name": "stdout",
     "output_type": "stream",
     "text": [
      "<class 'pandas.core.frame.DataFrame'>\n",
      "RangeIndex: 1174870 entries, 0 to 1174869\n",
      "Data columns (total 9 columns):\n",
      " #   Column           Non-Null Count    Dtype \n",
      "---  ------           --------------    ----- \n",
      " 0   date_fueled      1125665 non-null  object\n",
      " 1   date_captured    1174870 non-null  object\n",
      " 2   odometer         1025716 non-null  object\n",
      " 3   gallons          1100660 non-null  object\n",
      " 4   cost_per_gallon  1094110 non-null  object\n",
      " 5   total_spent      1100660 non-null  object\n",
      " 6   mpg              1100660 non-null  object\n",
      " 7   miles            146274 non-null   object\n",
      " 8   user_url         1174870 non-null  object\n",
      "dtypes: object(9)\n",
      "memory usage: 80.7+ MB\n"
     ]
    },
    {
     "data": {
      "text/html": [
       "<div>\n",
       "<style scoped>\n",
       "    .dataframe tbody tr th:only-of-type {\n",
       "        vertical-align: middle;\n",
       "    }\n",
       "\n",
       "    .dataframe tbody tr th {\n",
       "        vertical-align: top;\n",
       "    }\n",
       "\n",
       "    .dataframe thead th {\n",
       "        text-align: right;\n",
       "    }\n",
       "</style>\n",
       "<table border=\"1\" class=\"dataframe\">\n",
       "  <thead>\n",
       "    <tr style=\"text-align: right;\">\n",
       "      <th></th>\n",
       "      <th>date_fueled</th>\n",
       "      <th>date_captured</th>\n",
       "      <th>odometer</th>\n",
       "      <th>gallons</th>\n",
       "      <th>cost_per_gallon</th>\n",
       "      <th>total_spent</th>\n",
       "      <th>mpg</th>\n",
       "      <th>miles</th>\n",
       "      <th>user_url</th>\n",
       "    </tr>\n",
       "  </thead>\n",
       "  <tbody>\n",
       "    <tr>\n",
       "      <th>0</th>\n",
       "      <td>Cooling System, Heating System, Lights, Spark ...</td>\n",
       "      <td>Apr 7 2022</td>\n",
       "      <td>73,370</td>\n",
       "      <td>NaN</td>\n",
       "      <td>NaN</td>\n",
       "      <td>NaN</td>\n",
       "      <td>NaN</td>\n",
       "      <td>NaN</td>\n",
       "      <td>https://www.somewebsite.com/suzuki/swift/2015/...</td>\n",
       "    </tr>\n",
       "    <tr>\n",
       "      <th>1</th>\n",
       "      <td>Nov 7 2012</td>\n",
       "      <td>Aug 30 2016</td>\n",
       "      <td>11,983</td>\n",
       "      <td>12.120</td>\n",
       "      <td>$5.599</td>\n",
       "      <td>$67.86</td>\n",
       "      <td>31.6</td>\n",
       "      <td>NaN</td>\n",
       "      <td>https://www.somewebsite.com/bmw/x3/2009/461150</td>\n",
       "    </tr>\n",
       "    <tr>\n",
       "      <th>2</th>\n",
       "      <td>Sep 22 2012</td>\n",
       "      <td>Sep 28 2012</td>\n",
       "      <td>98,233</td>\n",
       "      <td>7.991</td>\n",
       "      <td>£5.45</td>\n",
       "      <td>£43.53</td>\n",
       "      <td>28.5</td>\n",
       "      <td>NaN</td>\n",
       "      <td>https://www.somewebsite.com/mercedes-benz/e300...</td>\n",
       "    </tr>\n",
       "    <tr>\n",
       "      <th>3</th>\n",
       "      <td>May 4 2019</td>\n",
       "      <td>May 4 2019</td>\n",
       "      <td>163,802</td>\n",
       "      <td>10.575</td>\n",
       "      <td>£5.11</td>\n",
       "      <td>£54.00</td>\n",
       "      <td>46.8</td>\n",
       "      <td>NaN</td>\n",
       "      <td>https://www.somewebsite.com/bmw/320d/2010/247233</td>\n",
       "    </tr>\n",
       "    <tr>\n",
       "      <th>4</th>\n",
       "      <td>Feb 15 2022</td>\n",
       "      <td>Feb 15 2022</td>\n",
       "      <td>NaN</td>\n",
       "      <td>11.651</td>\n",
       "      <td>$3.029</td>\n",
       "      <td>$35.29</td>\n",
       "      <td>21.0</td>\n",
       "      <td>244.4</td>\n",
       "      <td>https://www.somewebsite.com/honda/passport/201...</td>\n",
       "    </tr>\n",
       "  </tbody>\n",
       "</table>\n",
       "</div>"
      ],
      "text/plain": [
       "                                         date_fueled date_captured  odometer  \\\n",
       "0  Cooling System, Heating System, Lights, Spark ...    Apr 7 2022   73,370    \n",
       "1                                         Nov 7 2012   Aug 30 2016   11,983    \n",
       "2                                        Sep 22 2012   Sep 28 2012   98,233    \n",
       "3                                         May 4 2019    May 4 2019  163,802    \n",
       "4                                        Feb 15 2022   Feb 15 2022       NaN   \n",
       "\n",
       "  gallons cost_per_gallon total_spent   mpg    miles  \\\n",
       "0     NaN             NaN         NaN   NaN      NaN   \n",
       "1  12.120          $5.599      $67.86  31.6      NaN   \n",
       "2   7.991           £5.45      £43.53  28.5      NaN   \n",
       "3  10.575           £5.11      £54.00  46.8      NaN   \n",
       "4  11.651          $3.029      $35.29  21.0   244.4    \n",
       "\n",
       "                                            user_url  \n",
       "0  https://www.somewebsite.com/suzuki/swift/2015/...  \n",
       "1     https://www.somewebsite.com/bmw/x3/2009/461150  \n",
       "2  https://www.somewebsite.com/mercedes-benz/e300...  \n",
       "3   https://www.somewebsite.com/bmw/320d/2010/247233  \n",
       "4  https://www.somewebsite.com/honda/passport/201...  "
      ]
     },
     "execution_count": 1,
     "metadata": {},
     "output_type": "execute_result"
    }
   ],
   "source": [
    "import pandas as pd\n",
    "import matplotlib.pyplot as plt\n",
    "\n",
    "# Reads data\n",
    "df = pd.read_csv(\"../Data/logbook_assignment1.csv\")\n",
    "df.shape\n",
    "df.info()\n",
    "df.describe()\n",
    "df.head()"
   ]
  },
  {
   "cell_type": "markdown",
   "id": "49726c0f",
   "metadata": {},
   "source": [
    "All the columns are in string format, even the numeric ones. Theres missing values in most of the columns. Some of the cilumns formats are wrong, like data fuel. Some cols have text and numbers."
   ]
  },
  {
   "cell_type": "markdown",
   "id": "644aa00d",
   "metadata": {},
   "source": [
    "Question 1.1 - 1\n",
    "Identify what percentage of date_fueled entries are not proper dates"
   ]
  },
  {
   "cell_type": "code",
   "execution_count": 2,
   "id": "0de1f6ab",
   "metadata": {},
   "outputs": [
    {
     "name": "stderr",
     "output_type": "stream",
     "text": [
      "C:\\Users\\ruaan\\AppData\\Local\\Temp\\ipykernel_2084\\583575098.py:1: UserWarning: Could not infer format, so each element will be parsed individually, falling back to `dateutil`. To ensure parsing is consistent and as-expected, please specify a format.\n",
      "  Dates = pd.to_datetime(df['date_fueled'], errors='coerce')\n"
     ]
    },
    {
     "name": "stdout",
     "output_type": "stream",
     "text": [
      "Invalid date_fueled entries: 11.66%\n"
     ]
    }
   ],
   "source": [
    "Dates = pd.to_datetime(df['date_fueled'], errors='coerce')\n",
    "Nat_values = Dates.isna() #counts no. of trues\n",
    "Nat_count = Nat_values.sum()\n",
    "Total_count = len(df)\n",
    "percentage = (Nat_count/Total_count)*100\n",
    "print(f\"Invalid date_fueled entries: {percentage:.2f}%\") "
   ]
  },
  {
   "cell_type": "markdown",
   "id": "6bd61cba",
   "metadata": {},
   "source": [
    "The amount of dates that are not proper dates in date_fueled, is 11.66%. Meaning that 11.66% of the dates are Nat.\n",
    " "
   ]
  },
  {
   "cell_type": "markdown",
   "id": "d488b730",
   "metadata": {},
   "source": [
    "Question 1.1 - 2 If date fueled is not entered correctly (or is not a date), and the date\n",
    "captured is a valid date, then fill in this value as a proxy. "
   ]
  },
  {
   "cell_type": "code",
   "execution_count": 3,
   "id": "0eabf2f2",
   "metadata": {},
   "outputs": [
    {
     "data": {
      "text/plain": [
       "0    Cooling System, Heating System, Lights, Spark ...\n",
       "1                                           Nov 7 2012\n",
       "2                                          Sep 22 2012\n",
       "3                                           May 4 2019\n",
       "4                                          Feb 15 2022\n",
       "Name: date_fueled, dtype: object"
      ]
     },
     "execution_count": 3,
     "metadata": {},
     "output_type": "execute_result"
    }
   ],
   "source": [
    "df['date_captured'] = pd.to_datetime(df['date_captured'], errors = 'coerce')\n",
    "intersection = df['date_fueled'].isna() & df['date_captured'].notna()\n",
    "df.loc[intersection, 'date_fueled'] == df.loc[intersection, 'date_captured']\n",
    "df['date_fueled'].head()"
   ]
  },
  {
   "cell_type": "markdown",
   "id": "80a1c1d0",
   "metadata": {},
   "source": [
    "Converted date_captured to date format, then found all the rows where date_fueled had no values or NaT, while date_captured had a value, and changed it to date capture using df.loc"
   ]
  },
  {
   "cell_type": "markdown",
   "id": "1fedc604",
   "metadata": {},
   "source": [
    "Question 1.1 - 3 Convert the column to a date format, setting any invalid date fueled entries\n",
    "to NaT.\n"
   ]
  },
  {
   "cell_type": "code",
   "execution_count": 4,
   "id": "823c0904",
   "metadata": {},
   "outputs": [
    {
     "name": "stderr",
     "output_type": "stream",
     "text": [
      "C:\\Users\\ruaan\\AppData\\Local\\Temp\\ipykernel_2084\\2349755765.py:1: UserWarning: Could not infer format, so each element will be parsed individually, falling back to `dateutil`. To ensure parsing is consistent and as-expected, please specify a format.\n",
      "  df['date_fueled'] = pd.to_datetime(df['date_fueled'], errors = 'coerce')\n"
     ]
    },
    {
     "name": "stdout",
     "output_type": "stream",
     "text": [
      "0          NaT\n",
      "1   2012-11-07\n",
      "2   2012-09-22\n",
      "3   2019-05-04\n",
      "4   2022-02-15\n",
      "5   2021-10-23\n",
      "6   2021-11-20\n",
      "7   2022-01-20\n",
      "8          NaT\n",
      "9          NaT\n",
      "Name: date_fueled, dtype: datetime64[ns]\n"
     ]
    }
   ],
   "source": [
    "df['date_fueled'] = pd.to_datetime(df['date_fueled'], errors = 'coerce')\n",
    "print(df['date_fueled'].head(10))"
   ]
  },
  {
   "cell_type": "markdown",
   "id": "5dc053da",
   "metadata": {},
   "source": [
    "The date_fueled column was converted to datetime format. Any entries that were not proper dates were set to NaT."
   ]
  },
  {
   "cell_type": "markdown",
   "id": "a639de50",
   "metadata": {},
   "source": [
    "Question 1.1 - 4 Remove dates that are in the future, or dates that are earlier than 2005."
   ]
  },
  {
   "cell_type": "code",
   "execution_count": 5,
   "id": "61c88ec9",
   "metadata": {},
   "outputs": [
    {
     "name": "stdout",
     "output_type": "stream",
     "text": [
      "before:  1174870\n",
      "after:  1037174\n"
     ]
    }
   ],
   "source": [
    "min = pd.Timestamp('2005-01-01')\n",
    "max = pd.Timestamp.today()\n",
    "print(\"before: \", len(df['date_fueled']))\n",
    "df = df[(df['date_fueled']>=min) & (df['date_fueled']<=max)]\n",
    "print(\"after: \", len(df['date_fueled']))"
   ]
  },
  {
   "cell_type": "markdown",
   "id": "f35ecffd",
   "metadata": {},
   "source": [
    "Question 1.1 - 5 Plot the distribution of fueling dates and comment on the results."
   ]
  },
  {
   "cell_type": "code",
   "execution_count": 6,
   "id": "597e24f6",
   "metadata": {},
   "outputs": [
    {
     "data": {
      "image/png": "[encoded data removed]",
      "text/plain": [
       "<Figure size 1200x600 with 1 Axes>"
      ]
     },
     "metadata": {},
     "output_type": "display_data"
    }
   ],
   "source": [
    "plt.figure(figsize=(12,6))\n",
    "df['date_fueled'].hist(bins=100, edgecolor='black')\n",
    "\n",
    "plt.title(\"Distribution of Fueling Dates\")\n",
    "plt.xlabel(\"Date\")\n",
    "plt.ylabel(\"Number of Records\")\n",
    "plt.show()"
   ]
  },
  {
   "cell_type": "markdown",
   "id": "dfd1355f",
   "metadata": {},
   "source": [
    "The distribution of fueling dates shows that most records are concentrated in recent years (e.g., around 2020 onwards). Earlier dates have fewer records, likely because fewer users were logging their fuel data at that time. There are no obvious spikes beyond today's date, confirming that invalid future entries were successfully removed. Also we can see that most records of fuel were more recent from 2021 until 2022 - 2023."
   ]
  },
  {
   "cell_type": "markdown",
   "id": "fa522761",
   "metadata": {},
   "source": []
  }
 ],
 "metadata": {
  "kernelspec": {
   "display_name": "Python 3",
   "language": "python",
   "name": "python3"
  },
  "language_info": {
   "codemirror_mode": {
    "name": "ipython",
    "version": 3
   },
   "file_extension": ".py",
   "mimetype": "text/x-python",
   "name": "python",
   "nbconvert_exporter": "python",
   "pygments_lexer": "ipython3",
   "version": "3.11.9"
  }
 },
 "nbformat": 4,
 "nbformat_minor": 5
}
